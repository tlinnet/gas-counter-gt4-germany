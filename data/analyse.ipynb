{
 "cells": [
  {
   "cell_type": "code",
   "execution_count": 347,
   "metadata": {},
   "outputs": [],
   "source": [
    "import pandas as pd\n",
    "pd.options.mode.chained_assignment = None  # default='warn'"
   ]
  },
  {
   "cell_type": "markdown",
   "metadata": {},
   "source": [
    "# Read Data"
   ]
  },
  {
   "cell_type": "code",
   "execution_count": 348,
   "metadata": {},
   "outputs": [
    {
     "data": {
      "text/html": [
       "<div>\n",
       "<style scoped>\n",
       "    .dataframe tbody tr th:only-of-type {\n",
       "        vertical-align: middle;\n",
       "    }\n",
       "\n",
       "    .dataframe tbody tr th {\n",
       "        vertical-align: top;\n",
       "    }\n",
       "\n",
       "    .dataframe thead th {\n",
       "        text-align: right;\n",
       "    }\n",
       "</style>\n",
       "<table border=\"1\" class=\"dataframe\">\n",
       "  <thead>\n",
       "    <tr style=\"text-align: right;\">\n",
       "      <th></th>\n",
       "      <th>TimeStamp</th>\n",
       "      <th>Pulse</th>\n",
       "    </tr>\n",
       "  </thead>\n",
       "  <tbody>\n",
       "    <tr>\n",
       "      <th>0</th>\n",
       "      <td>2024-09-26 21:38:00</td>\n",
       "      <td>0</td>\n",
       "    </tr>\n",
       "    <tr>\n",
       "      <th>1</th>\n",
       "      <td>2024-09-26 23:12:03</td>\n",
       "      <td>1</td>\n",
       "    </tr>\n",
       "    <tr>\n",
       "      <th>2</th>\n",
       "      <td>2024-09-26 23:12:41</td>\n",
       "      <td>2</td>\n",
       "    </tr>\n",
       "    <tr>\n",
       "      <th>3</th>\n",
       "      <td>2024-09-26 23:13:21</td>\n",
       "      <td>3</td>\n",
       "    </tr>\n",
       "    <tr>\n",
       "      <th>4</th>\n",
       "      <td>2024-09-26 23:58:34</td>\n",
       "      <td>4</td>\n",
       "    </tr>\n",
       "  </tbody>\n",
       "</table>\n",
       "</div>"
      ],
      "text/plain": [
       "            TimeStamp  Pulse\n",
       "0 2024-09-26 21:38:00      0\n",
       "1 2024-09-26 23:12:03      1\n",
       "2 2024-09-26 23:12:41      2\n",
       "3 2024-09-26 23:13:21      3\n",
       "4 2024-09-26 23:58:34      4"
      ]
     },
     "execution_count": 348,
     "metadata": {},
     "output_type": "execute_result"
    }
   ],
   "source": [
    "df = pd.read_csv('gas_data.csv', sep=\";\", names=['Topic Pulse', 'TimeStamp'], header=None)\n",
    "df[['Topic','Pulse']] = df['Topic Pulse'].str.split(' ',expand=True)\n",
    "df.drop(columns = ['Topic Pulse', 'Topic'], inplace=True)\n",
    "df['TimeStamp'] = pd.to_datetime(df['TimeStamp'])\n",
    "# Remove milli seconds\n",
    "df['TimeStamp'] = df['TimeStamp'].dt.to_period('s').dt.to_timestamp()\n",
    "df['Pulse'] = pd.to_numeric(df['Pulse'])\n",
    "df.head()\n"
   ]
  },
  {
   "cell_type": "code",
   "execution_count": 349,
   "metadata": {},
   "outputs": [
    {
     "data": {
      "text/html": [
       "<div>\n",
       "<style scoped>\n",
       "    .dataframe tbody tr th:only-of-type {\n",
       "        vertical-align: middle;\n",
       "    }\n",
       "\n",
       "    .dataframe tbody tr th {\n",
       "        vertical-align: top;\n",
       "    }\n",
       "\n",
       "    .dataframe thead th {\n",
       "        text-align: right;\n",
       "    }\n",
       "</style>\n",
       "<table border=\"1\" class=\"dataframe\">\n",
       "  <thead>\n",
       "    <tr style=\"text-align: right;\">\n",
       "      <th></th>\n",
       "      <th>Consumption</th>\n",
       "      <th>TimeStamp</th>\n",
       "    </tr>\n",
       "  </thead>\n",
       "  <tbody>\n",
       "    <tr>\n",
       "      <th>0</th>\n",
       "      <td>3345.71</td>\n",
       "      <td>2024-09-26 21:38:00</td>\n",
       "    </tr>\n",
       "    <tr>\n",
       "      <th>1</th>\n",
       "      <td>3346.89</td>\n",
       "      <td>2024-09-27 07:04:00</td>\n",
       "    </tr>\n",
       "    <tr>\n",
       "      <th>2</th>\n",
       "      <td>3347.20</td>\n",
       "      <td>2024-09-27 14:58:00</td>\n",
       "    </tr>\n",
       "    <tr>\n",
       "      <th>3</th>\n",
       "      <td>3347.28</td>\n",
       "      <td>2024-09-27 17:16:00</td>\n",
       "    </tr>\n",
       "    <tr>\n",
       "      <th>4</th>\n",
       "      <td>3349.73</td>\n",
       "      <td>2024-09-28 15:10:00</td>\n",
       "    </tr>\n",
       "  </tbody>\n",
       "</table>\n",
       "</div>"
      ],
      "text/plain": [
       "   Consumption           TimeStamp\n",
       "0      3345.71 2024-09-26 21:38:00\n",
       "1      3346.89 2024-09-27 07:04:00\n",
       "2      3347.20 2024-09-27 14:58:00\n",
       "3      3347.28 2024-09-27 17:16:00\n",
       "4      3349.73 2024-09-28 15:10:00"
      ]
     },
     "execution_count": 349,
     "metadata": {},
     "output_type": "execute_result"
    }
   ],
   "source": [
    "df_r = pd.read_csv('gas_references.csv', sep=\";\", names=['Consumption', 'TimeStamp'], header=None)\n",
    "df_r['TimeStamp'] = pd.to_datetime(df_r['TimeStamp'])\n",
    "df_r['Consumption'] = pd.to_numeric(df_r['Consumption'])\n",
    "df_r.head()"
   ]
  },
  {
   "cell_type": "markdown",
   "metadata": {},
   "source": [
    "# Plot pulse activity per hour"
   ]
  },
  {
   "cell_type": "code",
   "execution_count": 350,
   "metadata": {},
   "outputs": [
    {
     "data": {
      "text/html": [
       "<div>\n",
       "<style scoped>\n",
       "    .dataframe tbody tr th:only-of-type {\n",
       "        vertical-align: middle;\n",
       "    }\n",
       "\n",
       "    .dataframe tbody tr th {\n",
       "        vertical-align: top;\n",
       "    }\n",
       "\n",
       "    .dataframe thead th {\n",
       "        text-align: right;\n",
       "    }\n",
       "</style>\n",
       "<table border=\"1\" class=\"dataframe\">\n",
       "  <thead>\n",
       "    <tr style=\"text-align: right;\">\n",
       "      <th></th>\n",
       "      <th>TimeStamp</th>\n",
       "      <th>Pulse</th>\n",
       "      <th>DateHour</th>\n",
       "      <th>Hour</th>\n",
       "    </tr>\n",
       "  </thead>\n",
       "  <tbody>\n",
       "    <tr>\n",
       "      <th>0</th>\n",
       "      <td>2024-09-26 21:38:00</td>\n",
       "      <td>0</td>\n",
       "      <td>2024-09-26 21:00</td>\n",
       "      <td>21</td>\n",
       "    </tr>\n",
       "    <tr>\n",
       "      <th>1</th>\n",
       "      <td>2024-09-26 23:12:03</td>\n",
       "      <td>1</td>\n",
       "      <td>2024-09-26 23:00</td>\n",
       "      <td>23</td>\n",
       "    </tr>\n",
       "    <tr>\n",
       "      <th>2</th>\n",
       "      <td>2024-09-26 23:12:41</td>\n",
       "      <td>2</td>\n",
       "      <td>2024-09-26 23:00</td>\n",
       "      <td>23</td>\n",
       "    </tr>\n",
       "    <tr>\n",
       "      <th>3</th>\n",
       "      <td>2024-09-26 23:13:21</td>\n",
       "      <td>3</td>\n",
       "      <td>2024-09-26 23:00</td>\n",
       "      <td>23</td>\n",
       "    </tr>\n",
       "    <tr>\n",
       "      <th>4</th>\n",
       "      <td>2024-09-26 23:58:34</td>\n",
       "      <td>4</td>\n",
       "      <td>2024-09-26 23:00</td>\n",
       "      <td>23</td>\n",
       "    </tr>\n",
       "  </tbody>\n",
       "</table>\n",
       "</div>"
      ],
      "text/plain": [
       "            TimeStamp  Pulse          DateHour  Hour\n",
       "0 2024-09-26 21:38:00      0  2024-09-26 21:00    21\n",
       "1 2024-09-26 23:12:03      1  2024-09-26 23:00    23\n",
       "2 2024-09-26 23:12:41      2  2024-09-26 23:00    23\n",
       "3 2024-09-26 23:13:21      3  2024-09-26 23:00    23\n",
       "4 2024-09-26 23:58:34      4  2024-09-26 23:00    23"
      ]
     },
     "execution_count": 350,
     "metadata": {},
     "output_type": "execute_result"
    }
   ],
   "source": [
    "df['DateHour'] = df['TimeStamp'].dt.to_period('h')\n",
    "df['Hour'] = df['TimeStamp'].dt.hour\n",
    "df.head()"
   ]
  },
  {
   "cell_type": "code",
   "execution_count": 351,
   "metadata": {},
   "outputs": [
    {
     "data": {
      "text/plain": [
       "Text(0, 0.5, '# Pulses')"
      ]
     },
     "execution_count": 351,
     "metadata": {},
     "output_type": "execute_result"
    },
    {
     "data": {
      "image/png": "[encoded data removed]",
      "text/plain": [
       "<Figure size 640x480 with 1 Axes>"
      ]
     },
     "metadata": {},
     "output_type": "display_data"
    }
   ],
   "source": [
    "group = 'Hour' # datehour\n",
    "activity = df.groupby([group])[group].count()\n",
    "ax = activity.plot.bar(rot=90, title='Activity of pulses')\n",
    "ax.set_ylabel(\"# Pulses\")"
   ]
  },
  {
   "cell_type": "markdown",
   "metadata": {},
   "source": [
    "# Consumption as function of pulses"
   ]
  },
  {
   "cell_type": "code",
   "execution_count": 352,
   "metadata": {},
   "outputs": [
    {
     "data": {
      "text/html": [
       "<div>\n",
       "<style scoped>\n",
       "    .dataframe tbody tr th:only-of-type {\n",
       "        vertical-align: middle;\n",
       "    }\n",
       "\n",
       "    .dataframe tbody tr th {\n",
       "        vertical-align: top;\n",
       "    }\n",
       "\n",
       "    .dataframe thead th {\n",
       "        text-align: right;\n",
       "    }\n",
       "</style>\n",
       "<table border=\"1\" class=\"dataframe\">\n",
       "  <thead>\n",
       "    <tr style=\"text-align: right;\">\n",
       "      <th></th>\n",
       "      <th>Consumption</th>\n",
       "      <th>TimeStamp</th>\n",
       "      <th>PulseTimeStamp</th>\n",
       "    </tr>\n",
       "    <tr>\n",
       "      <th>Pulse</th>\n",
       "      <th></th>\n",
       "      <th></th>\n",
       "      <th></th>\n",
       "    </tr>\n",
       "  </thead>\n",
       "  <tbody>\n",
       "    <tr>\n",
       "      <th>0</th>\n",
       "      <td>3345.71</td>\n",
       "      <td>2024-09-26 21:38:00</td>\n",
       "      <td>2024-09-26 21:38:00</td>\n",
       "    </tr>\n",
       "    <tr>\n",
       "      <th>118</th>\n",
       "      <td>3346.89</td>\n",
       "      <td>2024-09-27 07:04:00</td>\n",
       "      <td>2024-09-27 07:00:32</td>\n",
       "    </tr>\n",
       "    <tr>\n",
       "      <th>150</th>\n",
       "      <td>3347.20</td>\n",
       "      <td>2024-09-27 14:58:00</td>\n",
       "      <td>2024-09-27 15:58:59</td>\n",
       "    </tr>\n",
       "    <tr>\n",
       "      <th>158</th>\n",
       "      <td>3347.28</td>\n",
       "      <td>2024-09-27 17:16:00</td>\n",
       "      <td>2024-09-27 17:37:04</td>\n",
       "    </tr>\n",
       "    <tr>\n",
       "      <th>402</th>\n",
       "      <td>3349.73</td>\n",
       "      <td>2024-09-28 15:10:00</td>\n",
       "      <td>2024-09-28 14:27:01</td>\n",
       "    </tr>\n",
       "  </tbody>\n",
       "</table>\n",
       "</div>"
      ],
      "text/plain": [
       "       Consumption           TimeStamp      PulseTimeStamp\n",
       "Pulse                                                     \n",
       "0          3345.71 2024-09-26 21:38:00 2024-09-26 21:38:00\n",
       "118        3346.89 2024-09-27 07:04:00 2024-09-27 07:00:32\n",
       "150        3347.20 2024-09-27 14:58:00 2024-09-27 15:58:59\n",
       "158        3347.28 2024-09-27 17:16:00 2024-09-27 17:37:04\n",
       "402        3349.73 2024-09-28 15:10:00 2024-09-28 14:27:01"
      ]
     },
     "execution_count": 352,
     "metadata": {},
     "output_type": "execute_result"
    }
   ],
   "source": [
    "# Find the matching pulse at time.\n",
    "data = []\n",
    "for i,r in df_r.iterrows():\n",
    "    c = df.iloc[(df['TimeStamp']-r['TimeStamp']).abs().argsort()[0]]\n",
    "    data.append([r['Consumption'], r['TimeStamp'], c['TimeStamp'], c['Pulse']])\n",
    "\n",
    "df_ref = pd.DataFrame(data, columns=['Consumption', 'TimeStamp', 'PulseTimeStamp', 'Pulse'])\n",
    "df_ref.set_index('Pulse', inplace=True)\n",
    "df_ref"
   ]
  },
  {
   "cell_type": "code",
   "execution_count": 353,
   "metadata": {},
   "outputs": [
    {
     "data": {
      "text/plain": [
       "Text(0, 0.5, 'Gas [m3]')"
      ]
     },
     "execution_count": 353,
     "metadata": {},
     "output_type": "execute_result"
    },
    {
     "data": {
      "image/png": "[encoded data removed]",
      "text/plain": [
       "<Figure size 640x480 with 1 Axes>"
      ]
     },
     "metadata": {},
     "output_type": "display_data"
    }
   ],
   "source": [
    "ax = df_ref.plot.line(y='Consumption', style='+-', rot=90)\n",
    "ax.set_ylabel(\"Gas [m3]\")"
   ]
  },
  {
   "cell_type": "code",
   "execution_count": 354,
   "metadata": {},
   "outputs": [
    {
     "name": "stdout",
     "output_type": "stream",
     "text": [
      "Slope consumption per pulse is: 0.010\n",
      "Initial consumption is: 3345.706\n"
     ]
    }
   ],
   "source": [
    "def estimate_coef(df, y='Consumption'):\n",
    "  # number of observations/points\n",
    "  n = len(df)\n",
    "\n",
    "  # mean of x and y vector\n",
    "  m_x = df.index.values.mean()\n",
    "  m_y = df[y].mean()\n",
    "\n",
    "  # calculating cross-deviation and deviation about x\n",
    "  SS_xy = sum(df[y]*df.index) - n*m_y*m_x\n",
    "  SS_xx = sum(df.index*df.index) - n*m_x*m_x\n",
    "\n",
    "  # calculating regression coefficients\n",
    "  #  f(x) = a*x + b\n",
    "  a = SS_xy / SS_xx\n",
    "  b = m_y - a*m_x\n",
    "\n",
    "  return (a, b)\n",
    "\n",
    "a, b = estimate_coef(df_ref)\n",
    "print(f\"Slope consumption per pulse is: {a:0.3f}\")\n",
    "print(f\"Initial consumption is: {b:0.3f}\")"
   ]
  },
  {
   "cell_type": "code",
   "execution_count": 355,
   "metadata": {},
   "outputs": [
    {
     "data": {
      "text/html": [
       "<div>\n",
       "<style scoped>\n",
       "    .dataframe tbody tr th:only-of-type {\n",
       "        vertical-align: middle;\n",
       "    }\n",
       "\n",
       "    .dataframe tbody tr th {\n",
       "        vertical-align: top;\n",
       "    }\n",
       "\n",
       "    .dataframe thead th {\n",
       "        text-align: right;\n",
       "    }\n",
       "</style>\n",
       "<table border=\"1\" class=\"dataframe\">\n",
       "  <thead>\n",
       "    <tr style=\"text-align: right;\">\n",
       "      <th></th>\n",
       "      <th>Consumption</th>\n",
       "      <th>calc</th>\n",
       "    </tr>\n",
       "    <tr>\n",
       "      <th>Pulse</th>\n",
       "      <th></th>\n",
       "      <th></th>\n",
       "    </tr>\n",
       "  </thead>\n",
       "  <tbody>\n",
       "    <tr>\n",
       "      <th>0</th>\n",
       "      <td>3345.71</td>\n",
       "      <td>3345.71</td>\n",
       "    </tr>\n",
       "    <tr>\n",
       "      <th>118</th>\n",
       "      <td>3346.89</td>\n",
       "      <td>3346.89</td>\n",
       "    </tr>\n",
       "    <tr>\n",
       "      <th>150</th>\n",
       "      <td>3347.20</td>\n",
       "      <td>3347.21</td>\n",
       "    </tr>\n",
       "    <tr>\n",
       "      <th>158</th>\n",
       "      <td>3347.28</td>\n",
       "      <td>3347.29</td>\n",
       "    </tr>\n",
       "    <tr>\n",
       "      <th>402</th>\n",
       "      <td>3349.73</td>\n",
       "      <td>3349.73</td>\n",
       "    </tr>\n",
       "  </tbody>\n",
       "</table>\n",
       "</div>"
      ],
      "text/plain": [
       "       Consumption     calc\n",
       "Pulse                      \n",
       "0          3345.71  3345.71\n",
       "118        3346.89  3346.89\n",
       "150        3347.20  3347.21\n",
       "158        3347.28  3347.29\n",
       "402        3349.73  3349.73"
      ]
     },
     "execution_count": 355,
     "metadata": {},
     "output_type": "execute_result"
    }
   ],
   "source": [
    "df_calc = df_ref[['Consumption']]\n",
    "# Model: 0.01 m3 gas per pulse\n",
    "df_calc['calc']= df_calc.index*0.01 + df_ref['Consumption'].values[0]\n",
    "df_calc"
   ]
  },
  {
   "cell_type": "code",
   "execution_count": 356,
   "metadata": {},
   "outputs": [
    {
     "data": {
      "text/plain": [
       "<Axes: xlabel='Pulse'>"
      ]
     },
     "execution_count": 356,
     "metadata": {},
     "output_type": "execute_result"
    },
    {
     "data": {
      "image/png": "[encoded data removed]",
      "text/plain": [
       "<Figure size 640x480 with 1 Axes>"
      ]
     },
     "metadata": {},
     "output_type": "display_data"
    }
   ],
   "source": [
    "df_calc.plot.line(style='+-', rot=90)"
   ]
  },
  {
   "cell_type": "code",
   "execution_count": null,
   "metadata": {},
   "outputs": [],
   "source": []
  }
 ],
 "metadata": {
  "kernelspec": {
   "display_name": "LUNA",
   "language": "python",
   "name": "python3"
  },
  "language_info": {
   "codemirror_mode": {
    "name": "ipython",
    "version": 3
   },
   "file_extension": ".py",
   "mimetype": "text/x-python",
   "name": "python",
   "nbconvert_exporter": "python",
   "pygments_lexer": "ipython3",
   "version": "3.12.6"
  }
 },
 "nbformat": 4,
 "nbformat_minor": 2
}
